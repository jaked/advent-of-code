{
 "cells": [
  {
   "cell_type": "markdown",
   "metadata": {},
   "source": [
    "# [Day 8: Treetop Tree House](https://adventofcode.com/2022/day/8)\n",
    "\n",
    "The expedition comes across a peculiar patch of tall trees all planted carefully in a grid. The Elves explain that a previous expedition planted these trees as a reforestation effort. Now, they're curious if this would be a good location for a tree house.\n",
    "\n",
    "First, determine whether there is enough tree cover here to keep a tree house hidden. To do this, you need to count the number of trees that are visible from outside the grid when looking directly along a row or column.\n",
    "\n",
    "The Elves have already launched a quadcopter to generate a map with the height of each tree (your puzzle input). For example:\n",
    "\n",
    "```\n",
    "30373\n",
    "25512\n",
    "65332\n",
    "33549\n",
    "35390\n",
    "```\n",
    "\n",
    "Each tree is represented as a single digit whose value is its height, where 0 is the shortest and 9 is the tallest.\n",
    "\n",
    "A tree is visible if all of the other trees between it and an edge of the grid are shorter than it. Only consider trees in the same row or column; that is, only look up, down, left, or right from any given tree.\n",
    "\n",
    "All of the trees around the edge of the grid are visible - since they are already on the edge, there are no trees to block the view. In this example, that only leaves the interior nine trees to consider:\n",
    "\n",
    "The top-left 5 is visible from the left and top. (It isn't visible from the right or bottom since other trees of height 5 are in the way.)\n",
    "The top-middle 5 is visible from the top and right.\n",
    "The top-right 1 is not visible from any direction; for it to be visible, there would need to only be trees of height 0 between it and an edge.\n",
    "The left-middle 5 is visible, but only from the right.\n",
    "The center 3 is not visible from any direction; for it to be visible, there would need to be only trees of at most height 2 between it and an edge.\n",
    "The right-middle 3 is visible from the right.\n",
    "In the bottom row, the middle 5 is visible, but the 3 and 4 are not.\n",
    "With 16 trees visible on the edge and another 5 visible in the interior, a total of 21 trees are visible in this arrangement.\n",
    "\n",
    "Consider your map; how many trees are visible from outside the grid?"
   ]
  },
  {
   "cell_type": "code",
   "execution_count": 41,
   "metadata": {},
   "outputs": [],
   "source": [
    "import dotenv\n",
    "import os\n",
    "import requests\n",
    "\n",
    "dotenv.load_dotenv()\n",
    "\n",
    "input = requests.get(\n",
    "  'https://adventofcode.com/2022/day/8/input',\n",
    "  cookies={'session': os.getenv('ADVENT_OF_CODE_SESSION') }\n",
    ")"
   ]
  },
  {
   "cell_type": "code",
   "execution_count": 42,
   "metadata": {},
   "outputs": [],
   "source": [
    "grid = \"\"\"30373\n",
    "25512\n",
    "65332\n",
    "33549\n",
    "35390\n",
    "\"\"\".splitlines()\n",
    "\n",
    "grid = input.text.splitlines()\n",
    "\n",
    "grid = [[int(x) for x in row] for row in grid]\n"
   ]
  },
  {
   "cell_type": "code",
   "execution_count": 43,
   "metadata": {},
   "outputs": [
    {
     "data": {
      "text/plain": [
       "1693"
      ]
     },
     "execution_count": 43,
     "metadata": {},
     "output_type": "execute_result"
    }
   ],
   "source": [
    "# compute row where each cell is the height of the tallest tree encountered to\n",
    "# the left of the cell\n",
    "def sightline(row):\n",
    "  tallest = -1\n",
    "  for i in row:\n",
    "    yield tallest\n",
    "    tallest = max(tallest, i)\n",
    "\n",
    "def reverse(row):\n",
    "  return [row[i] for i in range(len(row) - 1, -1, -1)]\n",
    "\n",
    "# Copilot generated this function\n",
    "#   for a grid [[1, 2, 3], [4, 5, 6], [7, 8, 9]]\n",
    "#   zip(*grid) returns [(1, 4, 7), (2, 5, 8), (3, 6, 9)]\n",
    "#   list(zip(*grid)) returns [(1, 4, 7), (2, 5, 8), (3, 6, 9)]\n",
    "def transpose(grid):\n",
    "  return [list(x) for x in zip(*grid)]\n",
    "\n",
    "# construct grids where each cell is the height of the tallest tree encountered\n",
    "# on the sightline from the left / right / top / bottom\n",
    "left = [list(sightline(row)) for row in grid]\n",
    "right = [reverse(list(sightline(reverse(row)))) for row in grid]\n",
    "top = transpose([list(sightline(row)) for row in transpose(grid)])\n",
    "bottom = transpose([reverse(list(sightline(reverse(row)))) for row in transpose(grid)])\n",
    "\n",
    "def visible(i, j):\n",
    "  height = grid[i][j]\n",
    "  return height > left[i][j] or height > right[i][j] or height > top[i][j] or height > bottom[i][j]\n",
    "\n",
    "count = len([(i, j, x) for (i, row) in enumerate(grid) for (j, x) in enumerate(row) if visible(i, j)])\n",
    "\n",
    "count\n"
   ]
  },
  {
   "cell_type": "markdown",
   "metadata": {},
   "source": [
    "Content with the amount of tree cover available, the Elves just need to know the best spot to build their tree house: they would like to be able to see a lot of trees.\n",
    "\n",
    "To measure the viewing distance from a given tree, look up, down, left, and right from that tree; stop if you reach an edge or at the first tree that is the same height or taller than the tree under consideration. (If a tree is right on the edge, at least one of its viewing distances will be zero.)\n",
    "\n",
    "The Elves don't care about distant trees taller than those found by the rules above; the proposed tree house has large eaves to keep it dry, so they wouldn't be able to see higher than the tree house anyway.\n",
    "\n",
    "In the example above, consider the middle 5 in the second row:\n",
    "\n",
    "```\n",
    "30373\n",
    "25512\n",
    "65332\n",
    "33549\n",
    "35390\n",
    "```\n",
    "\n",
    "Looking up, its view is not blocked; it can see 1 tree (of height 3).\n",
    "Looking left, its view is blocked immediately; it can see only 1 tree (of height 5, right next to it).\n",
    "Looking right, its view is not blocked; it can see 2 trees.\n",
    "Looking down, its view is blocked eventually; it can see 2 trees (one of height 3, then the tree of height 5 that blocks its view).\n",
    "A tree's scenic score is found by multiplying together its viewing distance in each of the four directions. For this tree, this is 4 (found by multiplying 1 * 1 * 2 * 2).\n",
    "\n",
    "However, you can do even better: consider the tree of height 5 in the middle of the fourth row:\n",
    "\n",
    "```\n",
    "30373\n",
    "25512\n",
    "65332\n",
    "33549\n",
    "35390\n",
    "```\n",
    "\n",
    "Looking up, its view is blocked at 2 trees (by another tree with a height of 5).\n",
    "Looking left, its view is not blocked; it can see 2 trees.\n",
    "Looking down, its view is also not blocked; it can see 1 tree.\n",
    "Looking right, its view is blocked at 2 trees (by a massive tree of height 9).\n",
    "This tree's scenic score is 8 (2 * 2 * 1 * 2); this is the ideal spot for the tree house.\n",
    "\n",
    "Consider each tree on your map. What is the highest scenic score possible for any tree?"
   ]
  },
  {
   "cell_type": "code",
   "execution_count": 44,
   "metadata": {},
   "outputs": [
    {
     "data": {
      "text/plain": [
       "422059"
      ]
     },
     "execution_count": 44,
     "metadata": {},
     "output_type": "execute_result"
    }
   ],
   "source": [
    "height = len(grid)\n",
    "width = len(grid[0])\n",
    "\n",
    "def trees(i, j, di, dj):\n",
    "  h = grid[i][j] # height of the tree under consideration\n",
    "  t = 0 # how many trees are visible from this tree\n",
    "\n",
    "  while True:\n",
    "    i += di\n",
    "    j += dj\n",
    "    if i < 0 or i >= height or j < 0 or j >= width:\n",
    "      break\n",
    "    t += 1\n",
    "    if grid[i][j] >= h:\n",
    "      break\n",
    "\n",
    "  return t\n",
    "\n",
    "def scenic(i, j):\n",
    "  return trees(i, j, -1, 0) * trees(i, j, 1, 0) * trees(i, j, 0, -1) * trees(i, j, 0, 1)\n",
    "\n",
    "max([scenic(i, j) for (i, row) in enumerate(grid) for (j, x) in enumerate(row)])"
   ]
  }
 ],
 "metadata": {
  "kernelspec": {
   "display_name": "Python 3.10.6 ('.venv': venv)",
   "language": "python",
   "name": "python3"
  },
  "language_info": {
   "codemirror_mode": {
    "name": "ipython",
    "version": 3
   },
   "file_extension": ".py",
   "mimetype": "text/x-python",
   "name": "python",
   "nbconvert_exporter": "python",
   "pygments_lexer": "ipython3",
   "version": "3.10.6"
  },
  "orig_nbformat": 4,
  "vscode": {
   "interpreter": {
    "hash": "d1057dbfbacaed76687615b90c27b9e1a99d2fe2fe6b43ef188d82e657568408"
   }
  }
 },
 "nbformat": 4,
 "nbformat_minor": 2
}
