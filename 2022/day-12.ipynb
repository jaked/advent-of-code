{
 "cells": [
  {
   "cell_type": "markdown",
   "metadata": {},
   "source": [
    "Day 12: Hill Climbing Algorithm ---\n",
    "You try contacting the Elves using your handheld device, but the river you're following must be too low to get a decent signal.\n",
    "\n",
    "You ask the device for a heightmap of the surrounding area (your puzzle input). The heightmap shows the local area from above broken into a grid; the elevation of each square of the grid is given by a single lowercase letter, where a is the lowest elevation, b is the next-lowest, and so on up to the highest elevation, z.\n",
    "\n",
    "Also included on the heightmap are marks for your current position (S) and the location that should get the best signal (E). Your current position (S) has elevation a, and the location that should get the best signal (E) has elevation z.\n",
    "\n",
    "You'd like to reach E, but to save energy, you should do it in as few steps as possible. During each step, you can move exactly one square up, down, left, or right. To avoid needing to get out your climbing gear, the elevation of the destination square can be at most one higher than the elevation of your current square; that is, if your current elevation is m, you could step to elevation n, but not to elevation o. (This also means that the elevation of the destination square can be much lower than the elevation of your current square.)\n",
    "\n",
    "For example:\n",
    "\n",
    "```\n",
    "Sabqponm\n",
    "abcryxxl\n",
    "accszExk\n",
    "acctuvwj\n",
    "abdefghi\n",
    "```\n",
    "\n",
    "Here, you start in the top-left corner; your goal is near the middle. You could start by moving down or right, but eventually you'll need to head toward the e at the bottom. From there, you can spiral around to the goal:\n",
    "\n",
    "```\n",
    "v..v<<<<\n",
    ">v.vv<<^\n",
    ".>vv>E^^\n",
    "..v>>>^^\n",
    "..>>>>>^\n",
    "```\n",
    "\n",
    "In the above diagram, the symbols indicate whether the path exits each square moving up (^), down (v), left (<), or right (>). The location that should get the best signal is still E, and . marks unvisited squares.\n",
    "\n",
    "This path reaches the goal in 31 steps, the fewest possible.\n",
    "\n",
    "What is the fewest steps required to move from your current position to the location that should get the best signal?"
   ]
  },
  {
   "cell_type": "code",
   "execution_count": 8,
   "metadata": {},
   "outputs": [],
   "source": [
    "class Vec2D:\n",
    "    def __init__(self, x, y):\n",
    "        self.tup = x, self.y = x, y\n",
    "\n",
    "    def __str__(self):\n",
    "        return '{:g}i + {:g}j'.format(self.tup[0], self.tup[1])\n",
    "\n",
    "    def __repr__(self):\n",
    "        return repr(self.tup)\n",
    "\n",
    "    def __eq__(self, other):\n",
    "        return self.tup[0] == other.tup[0] and self.tup[1] == other.tup[1]\n",
    "\n",
    "    def __hash__(self):\n",
    "        return hash(self.tup)\n",
    "\n",
    "    def __sub__(self, other):\n",
    "        return Vec2D(self.tup[0] - other.tup[0], self.tup[1] - other.tup[1])\n",
    "\n",
    "    def __add__(self, other):\n",
    "        return Vec2D(self.tup[0] + other.tup[0], self.tup[1] + other.tup[1])\n",
    "\n",
    "    def __neg__(self):\n",
    "        return Vec2D(-self.tup[0], -self.tup[1])"
   ]
  },
  {
   "cell_type": "code",
   "execution_count": 9,
   "metadata": {},
   "outputs": [],
   "source": [
    "def find(grid, letter):\n",
    "  width = len(grid[0])\n",
    "  height = len(grid)\n",
    "\n",
    "  for y in range(height):\n",
    "    for x in range(width):\n",
    "      if grid[y][x] == letter:\n",
    "        return Vec2D(x, y)"
   ]
  },
  {
   "cell_type": "code",
   "execution_count": 4,
   "metadata": {},
   "outputs": [],
   "source": [
    "import dotenv\n",
    "import os\n",
    "import requests\n",
    "\n",
    "dotenv.load_dotenv()\n",
    "\n",
    "input = requests.get(\n",
    "  'https://adventofcode.com/2022/day/12/input',\n",
    "  cookies={'session': os.getenv('ADVENT_OF_CODE_SESSION') }\n",
    ")"
   ]
  },
  {
   "cell_type": "code",
   "execution_count": 26,
   "metadata": {},
   "outputs": [],
   "source": [
    "grid = \"\"\"\\\n",
    "Sabqponm\n",
    "abcryxxl\n",
    "accszExk\n",
    "acctuvwj\n",
    "abdefghi\n",
    "\"\"\".splitlines()\n",
    "\n",
    "grid = input.text.splitlines()"
   ]
  },
  {
   "cell_type": "markdown",
   "metadata": {},
   "source": [
    "from https://en.wikipedia.org/wiki/Dijkstra%27s_algorithm#Using_a_priority_queue\n",
    "\n",
    "```\n",
    "1  function Dijkstra(Graph, source):\n",
    "2      dist[source] ← 0                           // Initialization\n",
    "3\n",
    "4      create vertex priority queue Q\n",
    "5\n",
    "6      for each vertex v in Graph.Vertices:\n",
    "7          if v ≠ source\n",
    "8              dist[v] ← INFINITY                 // Unknown distance from source to v\n",
    "9              prev[v] ← UNDEFINED                // Predecessor of v\n",
    "10\n",
    "11         Q.add_with_priority(v, dist[v])\n",
    "12\n",
    "13\n",
    "14     while Q is not empty:                      // The main loop\n",
    "15         u ← Q.extract_min()                    // Remove and return best vertex\n",
    "16         for each neighbor v of u:              // Go through all v neighbors of u\n",
    "17             alt ← dist[u] + Graph.Edges(u, v)\n",
    "18             if alt < dist[v]:\n",
    "19                 dist[v] ← alt\n",
    "20                 prev[v] ← u\n",
    "21                 Q.decrease_priority(v, alt)\n",
    "22\n",
    "23     return dist, prev\n",
    "```"
   ]
  },
  {
   "cell_type": "code",
   "execution_count": 27,
   "metadata": {},
   "outputs": [
    {
     "data": {
      "text/plain": [
       "520"
      ]
     },
     "execution_count": 27,
     "metadata": {},
     "output_type": "execute_result"
    }
   ],
   "source": [
    "# the built-in heapq has no way to decrease priorities\n",
    "from heapdict import heapdict\n",
    "\n",
    "def elevation(grid, pos):\n",
    "  letter = grid[pos.tup[1]][pos.tup[0]]\n",
    "  if letter == 'S':\n",
    "    letter = 'a'\n",
    "  elif letter == 'E':\n",
    "    letter = 'z'\n",
    "  return ord(letter) - ord('a')\n",
    "\n",
    "def neighbors(grid, pos):\n",
    "  width = len(grid[0])\n",
    "  height = len(grid)\n",
    "\n",
    "  for d in [Vec2D(1, 0), Vec2D(0, 1), Vec2D(-1, 0), Vec2D(0, -1)]:\n",
    "    new_pos = pos + d\n",
    "    if 0 <= new_pos.tup[0] < width and 0 <= new_pos.tup[1] < height and elevation(grid, new_pos) <= elevation(grid, pos) + 1:\n",
    "      yield new_pos\n",
    "\n",
    "def shortest_path(grid, start, end):\n",
    "  width = len(grid[0])\n",
    "  height = len(grid)\n",
    "\n",
    "  dist = dict({ Vec2D(x, y): 1000000 for x in range(width) for y in range(height) })\n",
    "  q = heapdict()\n",
    "  dist[start] = 0\n",
    "  for k in dist:\n",
    "    q[k] = dist[k]\n",
    "\n",
    "  while q:\n",
    "    [u, distu] = q.popitem()\n",
    "    if u == end:\n",
    "      return distu\n",
    "\n",
    "    for v in neighbors(grid, u):\n",
    "      if not (v in q):\n",
    "        continue\n",
    "      alt = dist[u] + 1\n",
    "      if alt < dist[v]:\n",
    "        dist[v] = alt\n",
    "        q[v] = alt\n",
    "\n",
    "start = find(grid, 'S')\n",
    "end = find(grid, 'E')\n",
    "\n",
    "shortest_path(grid, start, end)"
   ]
  },
  {
   "cell_type": "markdown",
   "metadata": {},
   "source": [
    "As you walk up the hill, you suspect that the Elves will want to turn this into a hiking trail. The beginning isn't very scenic, though; perhaps you can find a better starting point.\n",
    "\n",
    "To maximize exercise while hiking, the trail should start as low as possible: elevation a. The goal is still the square marked E. However, the trail should still be direct, taking the fewest steps to reach its goal. So, you'll need to find the shortest path from any square at elevation a to the square marked E.\n",
    "\n",
    "Again consider the example from above:\n",
    "\n",
    "```\n",
    "Sabqponm\n",
    "abcryxxl\n",
    "accszExk\n",
    "acctuvwj\n",
    "abdefghi\n",
    "```\n",
    "\n",
    "Now, there are six choices for starting position (five marked a, plus the square marked S that counts as being at elevation a). If you start at the bottom-left square, you can reach the goal most quickly:\n",
    "\n",
    "```\n",
    "...v<<<<\n",
    "...vv<<^\n",
    "...v>E^^\n",
    ".>v>>>^^\n",
    ">^>>>>>^\n",
    "```\n",
    "\n",
    "This path reaches the goal in only 29 steps, the fewest possible.\n",
    "\n",
    "What is the fewest steps required to move starting from any square with elevation a to the location that should get the best signal?"
   ]
  },
  {
   "cell_type": "code",
   "execution_count": 28,
   "metadata": {},
   "outputs": [
    {
     "data": {
      "text/plain": [
       "508"
      ]
     },
     "execution_count": 28,
     "metadata": {},
     "output_type": "execute_result"
    }
   ],
   "source": [
    "width = len(grid[0])\n",
    "height = len(grid)\n",
    "starts = [Vec2D(x, y) for x in range(width) for y in range(height) if grid[y][x] == 'S' or grid[y][x] == 'a']\n",
    "mins = [shortest_path(grid, start, end) for start in starts]\n",
    "min(mins)"
   ]
  }
 ],
 "metadata": {
  "kernelspec": {
   "display_name": "Python 3.10.6 ('.venv': venv)",
   "language": "python",
   "name": "python3"
  },
  "language_info": {
   "codemirror_mode": {
    "name": "ipython",
    "version": 3
   },
   "file_extension": ".py",
   "mimetype": "text/x-python",
   "name": "python",
   "nbconvert_exporter": "python",
   "pygments_lexer": "ipython3",
   "version": "3.10.6"
  },
  "orig_nbformat": 4,
  "vscode": {
   "interpreter": {
    "hash": "d1057dbfbacaed76687615b90c27b9e1a99d2fe2fe6b43ef188d82e657568408"
   }
  }
 },
 "nbformat": 4,
 "nbformat_minor": 2
}
