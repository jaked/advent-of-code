{
 "cells": [
  {
   "attachments": {},
   "cell_type": "markdown",
   "metadata": {},
   "source": [
    "# [Day 15: Beacon Exclusion Zone](https://adventofcode.com/2022/day/15)\n",
    "\n",
    "You feel the ground rumble again as the distress signal leads you to a large network of subterranean tunnels. You don't have time to search them all, but you don't need to: your pack contains a set of deployable sensors that you imagine were originally built to locate lost Elves.\n",
    "\n",
    "The sensors aren't very powerful, but that's okay; your handheld device indicates that you're close enough to the source of the distress signal to use them. You pull the emergency sensor system out of your pack, hit the big button on top, and the sensors zoom off down the tunnels.\n",
    "\n",
    "Once a sensor finds a spot it thinks will give it a good reading, it attaches itself to a hard surface and begins monitoring for the nearest signal source beacon. Sensors and beacons always exist at integer coordinates. Each sensor knows its own position and can determine the position of a beacon precisely; however, sensors can only lock on to the one beacon closest to the sensor as measured by the Manhattan distance. (There is never a tie where two beacons are the same distance to a sensor.)\n",
    "\n",
    "It doesn't take long for the sensors to report back their positions and closest beacons (your puzzle input). For example:\n",
    "\n",
    "```\n",
    "Sensor at x=2, y=18: closest beacon is at x=-2, y=15\n",
    "Sensor at x=9, y=16: closest beacon is at x=10, y=16\n",
    "Sensor at x=13, y=2: closest beacon is at x=15, y=3\n",
    "Sensor at x=12, y=14: closest beacon is at x=10, y=16\n",
    "Sensor at x=10, y=20: closest beacon is at x=10, y=16\n",
    "Sensor at x=14, y=17: closest beacon is at x=10, y=16\n",
    "Sensor at x=8, y=7: closest beacon is at x=2, y=10\n",
    "Sensor at x=2, y=0: closest beacon is at x=2, y=10\n",
    "Sensor at x=0, y=11: closest beacon is at x=2, y=10\n",
    "Sensor at x=20, y=14: closest beacon is at x=25, y=17\n",
    "Sensor at x=17, y=20: closest beacon is at x=21, y=22\n",
    "Sensor at x=16, y=7: closest beacon is at x=15, y=3\n",
    "Sensor at x=14, y=3: closest beacon is at x=15, y=3\n",
    "Sensor at x=20, y=1: closest beacon is at x=15, y=3\n",
    "```\n",
    "\n",
    "So, consider the sensor at 2,18; the closest beacon to it is at -2,15. For the sensor at 9,16, the closest beacon to it is at 10,16.\n",
    "\n",
    "Drawing sensors as S and beacons as B, the above arrangement of sensors and beacons looks like this:\n",
    "\n",
    "```\n",
    "               1    1    2    2\n",
    "     0    5    0    5    0    5\n",
    " 0 ....S.......................\n",
    " 1 ......................S.....\n",
    " 2 ...............S............\n",
    " 3 ................SB..........\n",
    " 4 ............................\n",
    " 5 ............................\n",
    " 6 ............................\n",
    " 7 ..........S.......S.........\n",
    " 8 ............................\n",
    " 9 ............................\n",
    "10 ....B.......................\n",
    "11 ..S.........................\n",
    "12 ............................\n",
    "13 ............................\n",
    "14 ..............S.......S.....\n",
    "15 B...........................\n",
    "16 ...........SB...............\n",
    "17 ................S..........B\n",
    "18 ....S.......................\n",
    "19 ............................\n",
    "20 ............S......S........\n",
    "21 ............................\n",
    "22 .......................B....\n",
    "```\n",
    "\n",
    "This isn't necessarily a comprehensive map of all beacons in the area, though. Because each sensor only identifies its closest beacon, if a sensor detects a beacon, you know there are no other beacons that close or closer to that sensor. There could still be beacons that just happen to not be the closest beacon to any sensor. Consider the sensor at 8,7:\n",
    "\n",
    "```\n",
    "               1    1    2    2\n",
    "     0    5    0    5    0    5\n",
    "-2 ..........#.................\n",
    "-1 .........###................\n",
    " 0 ....S...#####...............\n",
    " 1 .......#######........S.....\n",
    " 2 ......#########S............\n",
    " 3 .....###########SB..........\n",
    " 4 ....#############...........\n",
    " 5 ...###############..........\n",
    " 6 ..#################.........\n",
    " 7 .#########S#######S#........\n",
    " 8 ..#################.........\n",
    " 9 ...###############..........\n",
    "10 ....B############...........\n",
    "11 ..S..###########............\n",
    "12 ......#########.............\n",
    "13 .......#######..............\n",
    "14 ........#####.S.......S.....\n",
    "15 B........###................\n",
    "16 ..........#SB...............\n",
    "17 ................S..........B\n",
    "18 ....S.......................\n",
    "19 ............................\n",
    "20 ............S......S........\n",
    "21 ............................\n",
    "22 .......................B....\n",
    "```\n",
    "\n",
    "This sensor's closest beacon is at 2,10, and so you know there are no beacons that close or closer (in any positions marked #).\n",
    "\n",
    "None of the detected beacons seem to be producing the distress signal, so you'll need to work out where the distress beacon is by working out where it isn't. For now, keep things simple by counting the positions where a beacon cannot possibly be along just a single row.\n",
    "\n",
    "So, suppose you have an arrangement of beacons and sensors like in the example above and, just in the row where y=10, you'd like to count the number of positions a beacon cannot possibly exist. The coverage from all sensors near that row looks like this:\n",
    "\n",
    "```\n",
    "                 1    1    2    2\n",
    "       0    5    0    5    0    5\n",
    " 9 ...#########################...\n",
    "10 ..####B######################..\n",
    "11 .###S#############.###########.\n",
    "```\n",
    "\n",
    "In this example, in the row where y=10, there are 26 positions where a beacon cannot be present.\n",
    "\n",
    "Consult the report from the sensors you just deployed. In the row where y=2000000, how many positions cannot contain a beacon?"
   ]
  },
  {
   "cell_type": "code",
   "execution_count": 1,
   "metadata": {},
   "outputs": [],
   "source": [
    "import dotenv\n",
    "import os\n",
    "import requests\n",
    "\n",
    "dotenv.load_dotenv()\n",
    "\n",
    "input = requests.get(\n",
    "  'https://adventofcode.com/2022/day/15/input',\n",
    "  cookies={'session': os.getenv('ADVENT_OF_CODE_SESSION') }\n",
    ")"
   ]
  },
  {
   "cell_type": "code",
   "execution_count": 49,
   "metadata": {},
   "outputs": [],
   "source": [
    "lines = \"\"\"\\\n",
    "Sensor at x=2, y=18: closest beacon is at x=-2, y=15\n",
    "Sensor at x=9, y=16: closest beacon is at x=10, y=16\n",
    "Sensor at x=13, y=2: closest beacon is at x=15, y=3\n",
    "Sensor at x=12, y=14: closest beacon is at x=10, y=16\n",
    "Sensor at x=10, y=20: closest beacon is at x=10, y=16\n",
    "Sensor at x=14, y=17: closest beacon is at x=10, y=16\n",
    "Sensor at x=8, y=7: closest beacon is at x=2, y=10\n",
    "Sensor at x=2, y=0: closest beacon is at x=2, y=10\n",
    "Sensor at x=0, y=11: closest beacon is at x=2, y=10\n",
    "Sensor at x=20, y=14: closest beacon is at x=25, y=17\n",
    "Sensor at x=17, y=20: closest beacon is at x=21, y=22\n",
    "Sensor at x=16, y=7: closest beacon is at x=15, y=3\n",
    "Sensor at x=14, y=3: closest beacon is at x=15, y=3\n",
    "Sensor at x=20, y=1: closest beacon is at x=15, y=3\n",
    "\"\"\".splitlines()\n",
    "\n",
    "#lines = input.text.splitlines()"
   ]
  },
  {
   "cell_type": "code",
   "execution_count": 47,
   "metadata": {},
   "outputs": [],
   "source": [
    "# https://pypi.org/project/parse/\n",
    "from parse import parse\n",
    "\n",
    "def parse_line(line):\n",
    "  sx, sy, bx, by =  parse(\"Sensor at x={:d}, y={:d}: closest beacon is at x={:d}, y={:d}\", line).fixed\n",
    "  return (sx, sy), (bx, by)\n",
    "\n",
    "def parse_lines(lines):\n",
    "  return [parse_line(line) for line in lines]"
   ]
  },
  {
   "cell_type": "code",
   "execution_count": 81,
   "metadata": {},
   "outputs": [],
   "source": [
    "# a beacon cannot be present at a position if the position is closer to a sensor\n",
    "# than that sensor's closest beacon\n",
    "\n",
    "def dist(pos1, pos2):\n",
    "  x1, y1 = pos1\n",
    "  x2, y2 = pos2\n",
    "  return abs(x1 - x2) + abs(y1 - y2)\n",
    "\n",
    "def min_(*args):\n",
    "  return min([a for a in args if a != None])\n",
    "\n",
    "def max_(*args):\n",
    "  return max([a for a in args if a != None])\n",
    "\n",
    "# first find the range of possible excluded positions by finding the bounding\n",
    "# box of all the excluded zones\n",
    "def bounding_box(readings):\n",
    "  min_x, max_x, min_y, max_y = None, None, None, None\n",
    "  for reading in readings:\n",
    "    spos, bpos = reading\n",
    "    d = dist(spos, bpos)\n",
    "    min_x = min_(min_x, spos[0] - d)\n",
    "    max_x = max_(max_x, spos[0] + d)\n",
    "    min_y = min_(min_y, spos[1] - d)\n",
    "    max_y = max_(max_y, spos[1] + d)\n",
    "  return min_x, max_x, min_y, max_y\n",
    "\n",
    "def excluded(pos, readings, exclude_beacons_and_sensors=False):\n",
    "  return any([\n",
    "    dist(spos, pos) <= dist(spos, bpos) and ((not exclude_beacons_and_sensors) or (pos != spos and pos != bpos))\n",
    "    for spos, bpos in readings\n",
    "  ])\n",
    "\n"
   ]
  },
  {
   "cell_type": "code",
   "execution_count": 84,
   "metadata": {},
   "outputs": [
    {
     "data": {
      "text/plain": [
       "26"
      ]
     },
     "execution_count": 84,
     "metadata": {},
     "output_type": "execute_result"
    }
   ],
   "source": [
    "readings = parse_lines(lines)\n",
    "\n",
    "min_x, max_x, min_y, max_y = bounding_box(readings)\n",
    "\n",
    "len([x for x in range(min_x, max_x + 1) if excluded((x, 10), readings, True)])\n"
   ]
  },
  {
   "cell_type": "code",
   "execution_count": 85,
   "metadata": {},
   "outputs": [
    {
     "data": {
      "text/plain": [
       "[(14, 11)]"
      ]
     },
     "execution_count": 85,
     "metadata": {},
     "output_type": "execute_result"
    }
   ],
   "source": [
    "[(x, y) for x in range(20) for y in range(20) if not excluded((x, y), readings)]"
   ]
  },
  {
   "cell_type": "code",
   "execution_count": 99,
   "metadata": {},
   "outputs": [
    {
     "data": {
      "text/plain": [
       "4985193"
      ]
     },
     "execution_count": 99,
     "metadata": {},
     "output_type": "execute_result"
    }
   ],
   "source": [
    "readings = parse_lines(input.text.splitlines())\n",
    "\n",
    "min_x, max_x, min_y, max_y = bounding_box(readings)\n",
    "\n",
    "# filter out readings that are out of range of row 2000000\n",
    "readings2 = [(spos, bpos) for (spos, bpos) in readings if dist(spos, (spos[0], 2000000)) < dist(spos, bpos)]\n",
    "\n",
    "len([x for x in range(min_x, max_x + 1) if excluded((x, 2000000), readings2, True)])\n"
   ]
  },
  {
   "attachments": {},
   "cell_type": "markdown",
   "metadata": {},
   "source": [
    "Your handheld device indicates that the distress signal is coming from a beacon nearby. The distress beacon is not detected by any sensor, but the distress beacon must have x and y coordinates each no lower than 0 and no larger than 4000000.\n",
    "\n",
    "To isolate the distress beacon's signal, you need to determine its tuning frequency, which can be found by multiplying its x coordinate by 4000000 and then adding its y coordinate.\n",
    "\n",
    "In the example above, the search space is smaller: instead, the x and y coordinates can each be at most 20. With this reduced search area, there is only a single position that could have a beacon: x=14, y=11. The tuning frequency for this distress beacon is 56000011.\n",
    "\n",
    "Find the only possible position for the distress beacon. What is its tuning frequency?"
   ]
  },
  {
   "cell_type": "code",
   "execution_count": 111,
   "metadata": {},
   "outputs": [
    {
     "name": "stdout",
     "output_type": "stream",
     "text": [
      "((3523437, 2746095), (3546605, 2721324)) 47939\n",
      "((282831, 991087), (743030, -87472)) 1538758\n",
      "((1473740, 3283213), (1846785, 3045894)) 610364\n",
      "((1290563, 46916), (743030, -87472)) 681921\n",
      "((3999451, 15688), (3283637, -753607)) 1485109\n",
      "((1139483, 2716286), (1846785, 3045894)) 1036910\n",
      "((3137614, 2929987), (3392051, 3245262)) 569712\n"
     ]
    },
    {
     "data": {
      "text/plain": [
       "[(2895970, 2601918)]"
      ]
     },
     "execution_count": 111,
     "metadata": {},
     "output_type": "execute_result"
    }
   ],
   "source": [
    "from itertools import islice\n",
    "\n",
    "# the single possible position must be just outside the excluded area for some\n",
    "# sensor, or else there would be multiple possible positions. so we can check\n",
    "# just those positions.\n",
    "\n",
    "def boundary(reading):\n",
    "  spos, bpos = reading\n",
    "  d = dist(spos, bpos)\n",
    "  for off in range(d + 1):\n",
    "    yield (spos[0] - (d + 1) + off, spos[1] - off)\n",
    "    yield (spos[0] + off, spos[1] - (d + 1) + off)\n",
    "    yield (spos[0] + (d + 1) - off, spos[1] + off)\n",
    "    yield (spos[0] - off, spos[1] + (d + 1) - off)\n",
    "\n",
    "def in_bounds(pos):\n",
    "  return 0 <= pos[0] <= 4000000 and 0 <= pos[1] <= 4000000\n",
    "\n",
    "def possible_positions(readings):\n",
    "  for reading in readings:\n",
    "    print(reading, dist(reading[0], reading[1]))\n",
    "    for pos in boundary(reading):\n",
    "      if in_bounds(pos) and not excluded(pos, readings):\n",
    "        yield pos\n",
    "\n",
    "list(islice(possible_positions(readings), 1))"
   ]
  },
  {
   "cell_type": "code",
   "execution_count": 112,
   "metadata": {},
   "outputs": [
    {
     "data": {
      "text/plain": [
       "11583882601918"
      ]
     },
     "execution_count": 112,
     "metadata": {},
     "output_type": "execute_result"
    }
   ],
   "source": [
    "2895970 * 4000000 + 2601918"
   ]
  }
 ],
 "metadata": {
  "kernelspec": {
   "display_name": ".venv",
   "language": "python",
   "name": "python3"
  },
  "language_info": {
   "codemirror_mode": {
    "name": "ipython",
    "version": 3
   },
   "file_extension": ".py",
   "mimetype": "text/x-python",
   "name": "python",
   "nbconvert_exporter": "python",
   "pygments_lexer": "ipython3",
   "version": "3.10.6"
  },
  "orig_nbformat": 4,
  "vscode": {
   "interpreter": {
    "hash": "d1057dbfbacaed76687615b90c27b9e1a99d2fe2fe6b43ef188d82e657568408"
   }
  }
 },
 "nbformat": 4,
 "nbformat_minor": 2
}
