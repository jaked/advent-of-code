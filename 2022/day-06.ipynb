{
 "cells": [
  {
   "cell_type": "markdown",
   "metadata": {},
   "source": [
    "# [Day 6: Tuning Trouble](https://adventofcode.com/2022/day/6)\n",
    "\n",
    "The preparations are finally complete; you and the Elves leave camp on foot and begin to make your way toward the star fruit grove.\n",
    "\n",
    "As you move through the dense undergrowth, one of the Elves gives you a handheld device. He says that it has many fancy features, but the most important one to set up right now is the communication system.\n",
    "\n",
    "However, because he's heard you have significant experience dealing with signal-based systems, he convinced the other Elves that it would be okay to give you their one malfunctioning device - surely you'll have no problem fixing it.\n",
    "\n",
    "As if inspired by comedic timing, the device emits a few colorful sparks.\n",
    "\n",
    "To be able to communicate with the Elves, the device needs to lock on to their signal. The signal is a series of seemingly-random characters that the device receives one at a time.\n",
    "\n",
    "To fix the communication system, you need to add a subroutine to the device that detects a start-of-packet marker in the datastream. In the protocol being used by the Elves, the start of a packet is indicated by a sequence of four characters that are all different.\n",
    "\n",
    "The device will send your subroutine a datastream buffer (your puzzle input); your subroutine needs to identify the first position where the four most recently received characters were all different. Specifically, it needs to report the number of characters from the beginning of the buffer to the end of the first such four-character marker.\n",
    "\n",
    "For example, suppose you receive the following datastream buffer:\n",
    "\n",
    "```\n",
    "mjqjpqmgbljsphdztnvjfqwrcgsmlb\n",
    "```\n",
    "\n",
    "After the first three characters (mjq) have been received, there haven't been enough characters received yet to find the marker. The first time a marker could occur is after the fourth character is received, making the most recent four characters mjqj. Because j is repeated, this isn't a marker.\n",
    "\n",
    "The first time a marker appears is after the seventh character arrives. Once it does, the last four characters received are jpqm, which are all different. In this case, your subroutine should report the value 7, because the first start-of-packet marker is complete after 7 characters have been processed.\n",
    "\n",
    "Here are a few more examples:\n",
    "\n",
    "- `bvwbjplbgvbhsrlpgdmjqwftvncz`: first marker after character 5\n",
    "- `nppdvjthqldpwncqszvftbrmjlhg`: first marker after character 6\n",
    "- `nznrnfrfntjfmvfwmzdfjlvtqnbhcprsg`: first marker after character 10\n",
    "- `zcfzfwzzqfrljwzlrfnpqdbhtmscgvjw`: first marker after character 11\n",
    "\n",
    "How many characters need to be processed before the first start-of-packet marker is detected?"
   ]
  },
  {
   "cell_type": "code",
   "execution_count": 40,
   "metadata": {},
   "outputs": [],
   "source": [
    "import dotenv\n",
    "import os\n",
    "import requests\n",
    "\n",
    "dotenv.load_dotenv()\n",
    "\n",
    "input = requests.get(\n",
    "  'https://adventofcode.com/2022/day/6/input',\n",
    "  cookies={'session': os.getenv('ADVENT_OF_CODE_SESSION') }\n",
    ")"
   ]
  },
  {
   "cell_type": "code",
   "execution_count": 41,
   "metadata": {},
   "outputs": [
    {
     "name": "stderr",
     "output_type": "stream",
     "text": [
      "....\n",
      "----------------------------------------------------------------------\n",
      "Ran 4 tests in 0.001s\n",
      "\n",
      "OK\n"
     ]
    },
    {
     "data": {
      "text/plain": [
       "<unittest.runner.TextTestResult run=4 errors=0 failures=0>"
      ]
     },
     "execution_count": 41,
     "metadata": {},
     "output_type": "execute_result"
    }
   ],
   "source": [
    "import unittest\n",
    "\n",
    "def ntuplewise(iterable, n):\n",
    "  window = []\n",
    "  for x in iterable:\n",
    "    window.append(x)\n",
    "    if len(window) == n:\n",
    "      yield list(window)\n",
    "      window.pop(0)\n",
    "\n",
    "def distinct(iterable):\n",
    "  return len(set(iterable)) == len(iterable)\n",
    "\n",
    "def findMarker(input):\n",
    "  for (i, items) in enumerate(ntuplewise(input, 4)):\n",
    "    if distinct(items):\n",
    "      return i + 4\n",
    "\n",
    "class FindMarkerTest(unittest.TestCase):\n",
    "  def test1(self):\n",
    "    self.assertEqual(findMarker('bvwbjplbgvbhsrlpgdmjqwftvncz'), 5)\n",
    "  def test2(self):\n",
    "    self.assertEqual(findMarker('nppdvjthqldpwncqszvftbrmjlhg'), 6)\n",
    "  def test3(self):\n",
    "    self.assertEqual(findMarker('nznrnfrfntjfmvfwmzdfjlvtqnbhcprsg'), 10)\n",
    "  def test4(self):\n",
    "    self.assertEqual(findMarker('zcfzfwzzqfrljwzlrfnpqdbhtmscgvjw'), 11)\n",
    "\n",
    "suite = unittest.defaultTestLoader.loadTestsFromTestCase(FindMarkerTest)\n",
    "unittest.TextTestRunner().run(suite)\n"
   ]
  },
  {
   "cell_type": "code",
   "execution_count": 42,
   "metadata": {},
   "outputs": [
    {
     "data": {
      "text/plain": [
       "1542"
      ]
     },
     "execution_count": 42,
     "metadata": {},
     "output_type": "execute_result"
    }
   ],
   "source": [
    "findMarker(input.text)"
   ]
  },
  {
   "cell_type": "markdown",
   "metadata": {},
   "source": [
    "Your device's communication system is correctly detecting packets, but still isn't working. It looks like it also needs to look for messages.\n",
    "\n",
    "A start-of-message marker is just like a start-of-packet marker, except it consists of 14 distinct characters rather than 4.\n",
    "\n",
    "Here are the first positions of start-of-message markers for all of the above examples:\n",
    "\n",
    "- `mjqjpqmgbljsphdztnvjfqwrcgsmlb`: first marker after character 19\n",
    "- `bvwbjplbgvbhsrlpgdmjqwftvncz`: first marker after character 23\n",
    "- `nppdvjthqldpwncqszvftbrmjlhg`: first marker after character 23\n",
    "- `nznrnfrfntjfmvfwmzdfjlvtqnbhcprsg`: first marker after character 29\n",
    "- `zcfzfwzzqfrljwzlrfnpqdbhtmscgvjw`: first marker after character 26\n",
    "\n",
    "How many characters need to be processed before the first start-of-message marker is detected?"
   ]
  },
  {
   "cell_type": "code",
   "execution_count": 43,
   "metadata": {},
   "outputs": [
    {
     "name": "stderr",
     "output_type": "stream",
     "text": [
      ".....\n",
      "----------------------------------------------------------------------\n",
      "Ran 5 tests in 0.002s\n",
      "\n",
      "OK\n"
     ]
    },
    {
     "data": {
      "text/plain": [
       "<unittest.runner.TextTestResult run=5 errors=0 failures=0>"
      ]
     },
     "execution_count": 43,
     "metadata": {},
     "output_type": "execute_result"
    }
   ],
   "source": [
    "def findMarker2(input):\n",
    "  for (i, items) in enumerate(ntuplewise(input, 14)):\n",
    "    if distinct(items):\n",
    "      return i + 14\n",
    "\n",
    "class FindMarker2Test(unittest.TestCase):\n",
    "  def test1(self):\n",
    "    self.assertEqual(findMarker2('mjqjpqmgbljsphdztnvjfqwrcgsmlb'), 19)\n",
    "  def test2(self):\n",
    "    self.assertEqual(findMarker2('bvwbjplbgvbhsrlpgdmjqwftvncz'), 23)\n",
    "  def test3(self):\n",
    "    self.assertEqual(findMarker2('nppdvjthqldpwncqszvftbrmjlhg'), 23)\n",
    "  def test4(self):\n",
    "    self.assertEqual(findMarker2('nznrnfrfntjfmvfwmzdfjlvtqnbhcprsg'), 29)\n",
    "  def test5(self):\n",
    "    self.assertEqual(findMarker2('zcfzfwzzqfrljwzlrfnpqdbhtmscgvjw'), 26)\n",
    "\n",
    "suite = unittest.defaultTestLoader.loadTestsFromTestCase(FindMarker2Test)\n",
    "unittest.TextTestRunner().run(suite)"
   ]
  },
  {
   "cell_type": "code",
   "execution_count": 44,
   "metadata": {},
   "outputs": [
    {
     "data": {
      "text/plain": [
       "3153"
      ]
     },
     "execution_count": 44,
     "metadata": {},
     "output_type": "execute_result"
    }
   ],
   "source": [
    "findMarker2(input.text)"
   ]
  }
 ],
 "metadata": {
  "kernelspec": {
   "display_name": "Python 3.10.6 ('.venv': venv)",
   "language": "python",
   "name": "python3"
  },
  "language_info": {
   "codemirror_mode": {
    "name": "ipython",
    "version": 3
   },
   "file_extension": ".py",
   "mimetype": "text/x-python",
   "name": "python",
   "nbconvert_exporter": "python",
   "pygments_lexer": "ipython3",
   "version": "3.10.6"
  },
  "orig_nbformat": 4,
  "vscode": {
   "interpreter": {
    "hash": "d1057dbfbacaed76687615b90c27b9e1a99d2fe2fe6b43ef188d82e657568408"
   }
  }
 },
 "nbformat": 4,
 "nbformat_minor": 2
}
